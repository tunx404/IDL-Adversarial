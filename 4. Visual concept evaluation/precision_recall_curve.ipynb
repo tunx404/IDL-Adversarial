{
 "cells": [
  {
   "cell_type": "markdown",
   "metadata": {
    "id": "AHs8SyiV-_Cp"
   },
   "source": [
    "# Setup"
   ]
  },
  {
   "cell_type": "code",
   "execution_count": 1,
   "metadata": {
    "executionInfo": {
     "elapsed": 247,
     "status": "ok",
     "timestamp": 1638671775370,
     "user": {
      "displayName": "Anh Le Hoang",
      "photoUrl": "https://lh3.googleusercontent.com/a/default-user=s64",
      "userId": "01819178927393653676"
     },
     "user_tz": 300
    },
    "id": "1LScXbquVY5d"
   },
   "outputs": [],
   "source": [
    "counting_method = False\n",
    "counting_method = True # <--\n",
    "\n",
    "# Set to True if running on Google Colab\n",
    "google_colab = False\n",
    "# google_colab = True # <--\n",
    "\n",
    "calculate_mode = False\n",
    "# calculate_mode = True # <--\n",
    "\n",
    "save_result = False\n",
    "# save_result = True # <--\n",
    "    \n",
    "if calculate_mode == False:\n",
    "    save_result = False"
   ]
  },
  {
   "cell_type": "code",
   "execution_count": 2,
   "metadata": {
    "colab": {
     "base_uri": "https://localhost:8080/"
    },
    "executionInfo": {
     "elapsed": 19,
     "status": "ok",
     "timestamp": 1638671775552,
     "user": {
      "displayName": "Anh Le Hoang",
      "photoUrl": "https://lh3.googleusercontent.com/a/default-user=s64",
      "userId": "01819178927393653676"
     },
     "user_tz": 300
    },
    "id": "5gcfQpWF-vj8",
    "outputId": "5725128b-d54d-4e35-8301-7d2302980194"
   },
   "outputs": [],
   "source": [
    "import os\n",
    "import sys\n",
    "import time\n",
    "import csv\n",
    "import numpy as np\n",
    "import pickle\n",
    "from tqdm import tqdm\n",
    "import matplotlib.pyplot as plt\n",
    "\n",
    "if google_colab == True:\n",
    "    # Make sure to mount drive and that you have access to IDL_group_project. All paths are from the shared folder\n",
    "    from google.colab import drive\n",
    "    drive.mount('/content/drive')"
   ]
  },
  {
   "cell_type": "code",
   "execution_count": 3,
   "metadata": {
    "executionInfo": {
     "elapsed": 12,
     "status": "ok",
     "timestamp": 1638671775553,
     "user": {
      "displayName": "Anh Le Hoang",
      "photoUrl": "https://lh3.googleusercontent.com/a/default-user=s64",
      "userId": "01819178927393653676"
     },
     "user_tz": 300
    },
    "id": "vYFrpF9OJiDT"
   },
   "outputs": [],
   "source": [
    "#This function will return both the path and the file names of all files in a directory\n",
    "def path_file_list_creator(path, both_path_file = False):\n",
    "  path_file_list = []\n",
    "  for myfile in os.listdir(path):\n",
    "    full_path = os.path.join(path,myfile)\n",
    "    if both_path_file == True:\n",
    "      path_file_list.append((full_path, myfile))\n",
    "    else:\n",
    "      path_file_list.append(full_path)\n",
    "  return(path_file_list,len(path_file_list))\n",
    "\n",
    "#Concate all different classes semantic information together from seperate directories\n",
    "def concate_directories(paths):\n",
    "  semantic_bundles_paths_extended = []\n",
    "  total_files = 0 \n",
    "\n",
    "  for path in paths:\n",
    "    class_bundle_paths , num_files = path_file_list_creator(path)\n",
    "    semantic_bundles_paths_extended.extend(class_bundle_paths)\n",
    "    total_files += num_files\n",
    "  print(\"Total Files grabbed \", total_files)\n",
    "  return(semantic_bundles_paths_extended)"
   ]
  },
  {
   "cell_type": "markdown",
   "metadata": {
    "id": "acoUGeDyrspL"
   },
   "source": [
    "# Precision-Recall curve"
   ]
  },
  {
   "cell_type": "markdown",
   "metadata": {
    "id": "F7e4MUaW77sr"
   },
   "source": [
    "Load visual concepts"
   ]
  },
  {
   "cell_type": "code",
   "execution_count": 4,
   "metadata": {
    "colab": {
     "base_uri": "https://localhost:8080/"
    },
    "executionInfo": {
     "elapsed": 14,
     "status": "ok",
     "timestamp": 1638671775556,
     "user": {
      "displayName": "Anh Le Hoang",
      "photoUrl": "https://lh3.googleusercontent.com/a/default-user=s64",
      "userId": "01819178927393653676"
     },
     "user_tz": 300
    },
    "id": "P8Odn4SLmg9R",
    "outputId": "c1ffd0db-dd6a-47a6-ef24-0565085ae98c"
   },
   "outputs": [
    {
     "name": "stdout",
     "output_type": "stream",
     "text": [
      "(200, 512)\n"
     ]
    }
   ],
   "source": [
    "if google_colab == True:\n",
    "  visual_concepts = np.load('/content/drive/MyDrive/IDL_group_project/visual_concepts_positive.npy')\n",
    "else:\n",
    "  # visual_concepts = np.load('/home/tunx404/Cloud/Google Drive - CMU - Shared with me/IDL_group_project/visual_concepts_positive_car.npy')\n",
    "  visual_concepts = np.load('/home/tunx404/Cloud/Google Drive - CMU - Shared with me/IDL_group_project/visual_concepts_positive.npy')\n",
    "\n",
    "# final_indicies = [6, 17, 43, 47, 52, 56, 63, 75, 78, 82, 89, 91, 96, 104, 107, 111, 122, 140, 150, 164, 172, 187, 194]\n",
    "# visual_concepts = visual_concepts[final_indicies]\n",
    "num_visual_concepts = visual_concepts.shape[0]\n",
    "print(visual_concepts.shape)\n",
    "\n",
    "# # Check the norm of the visual concepts\n",
    "# for visual_concept in visual_concepts:\n",
    "#   print(np.linalg.norm(visual_concept))\n",
    "\n",
    "# # Normalize the visual concepts\n",
    "# for i in range(len(visual_concepts)):\n",
    "#   visual_concepts[i] = visual_concepts[i]/np.linalg.norm(visual_concepts[i])"
   ]
  },
  {
   "cell_type": "markdown",
   "metadata": {
    "id": "WtLBUgTGe7Mh"
   },
   "source": [
    "Load feature vectors"
   ]
  },
  {
   "cell_type": "code",
   "execution_count": 5,
   "metadata": {
    "executionInfo": {
     "elapsed": 12,
     "status": "ok",
     "timestamp": 1638671775558,
     "user": {
      "displayName": "Anh Le Hoang",
      "photoUrl": "https://lh3.googleusercontent.com/a/default-user=s64",
      "userId": "01819178927393653676"
     },
     "user_tz": 300
    },
    "id": "K0_BhAX5JJOn"
   },
   "outputs": [],
   "source": [
    "from numpy import linalg as LA\n",
    "\n",
    "if google_colab == True:\n",
    "    fp_positive_dir = '/content/drive/MyDrive/IDL_group_project/Google_Colab/data/fp_positive/'\n",
    "    fp_negative_dir = '/content/drive/MyDrive/IDL_group_project/Google_Colab/data/fp_negative/'\n",
    "else:\n",
    "    fp_positive_dir = '/home/tunx404/Cloud/Google Drive - CMU - Shared with me/IDL_group_project/Google_Colab/data/fp_positive/'\n",
    "    fp_negative_dir = '/home/tunx404/Cloud/Google Drive - CMU - Shared with me/IDL_group_project/Google_Colab/data/fp_negative/'\n",
    "    # fp_positive_dir = '/home/tunx404/Cloud/Google Drive - CMU - Shared with me/IDL_group_project/Google_Colab/data/fp_positive_car/'\n",
    "    # fp_negative_dir = '/home/tunx404/Cloud/Google Drive - CMU - Shared with me/IDL_group_project/Google_Colab/data/fp_negative_car/'"
   ]
  },
  {
   "cell_type": "code",
   "execution_count": 6,
   "metadata": {
    "colab": {
     "base_uri": "https://localhost:8080/"
    },
    "executionInfo": {
     "elapsed": 124,
     "status": "ok",
     "timestamp": 1638671775670,
     "user": {
      "displayName": "Anh Le Hoang",
      "photoUrl": "https://lh3.googleusercontent.com/a/default-user=s64",
      "userId": "01819178927393653676"
     },
     "user_tz": 300
    },
    "id": "VtkhSwpP-uMl",
    "outputId": "0b870dde-70ca-4411-a313-6e9a3f6e3328"
   },
   "outputs": [
    {
     "name": "stdout",
     "output_type": "stream",
     "text": [
      "Total Files grabbed  3351\n",
      "Total Files grabbed  3351\n",
      "35.96550750732422\n",
      "('/home/tunx404/Cloud/Google Drive - CMU - Shared with me/IDL_group_project/Google_Colab/data/fp_positive/01557.npy', '/home/tunx404/Cloud/Google Drive - CMU - Shared with me/IDL_group_project/Google_Colab/data/fp_positive/01209.npy', '/home/tunx404/Cloud/Google Drive - CMU - Shared with me/IDL_group_project/Google_Colab/data/fp_positive/01653.npy')\n",
      "('/home/tunx404/Cloud/Google Drive - CMU - Shared with me/IDL_group_project/Google_Colab/data/fp_negative/01557.npy', '/home/tunx404/Cloud/Google Drive - CMU - Shared with me/IDL_group_project/Google_Colab/data/fp_negative/01209.npy', '/home/tunx404/Cloud/Google Drive - CMU - Shared with me/IDL_group_project/Google_Colab/data/fp_negative/01653.npy')\n",
      "3351\n"
     ]
    }
   ],
   "source": [
    "# fp_positive_npy_paths = concate_directories(all_classes_fp_positive_dir)\n",
    "fp_positive_npy_paths = concate_directories([fp_positive_dir])\n",
    "fp_negative_npy_paths = concate_directories([fp_negative_dir])\n",
    "\n",
    "x = np.load(fp_positive_npy_paths[0])\n",
    "y = np.load(fp_negative_npy_paths[0])\n",
    "print(LA.norm(x - y).item())\n",
    "\n",
    "# Shuffle the feature vector sets the same way\n",
    "import random\n",
    "fp_all_npy_paths = list(zip(fp_positive_npy_paths, fp_negative_npy_paths))\n",
    "random.shuffle(fp_all_npy_paths)\n",
    "fp_positive_npy_paths, fp_negative_npy_paths = zip(*fp_all_npy_paths)\n",
    "\n",
    "print(fp_positive_npy_paths[:3])\n",
    "print(fp_negative_npy_paths[:3])\n",
    "\n",
    "# Take a subset to reduce the computation time\n",
    "dataset_cutoff = len(fp_positive_npy_paths)\n",
    "fp_positive_npy_paths = fp_positive_npy_paths[:dataset_cutoff]\n",
    "fp_negative_npy_paths = fp_negative_npy_paths[:dataset_cutoff]\n",
    "print(len(fp_negative_npy_paths))"
   ]
  },
  {
   "cell_type": "markdown",
   "metadata": {
    "id": "JCRBBefzfIGe"
   },
   "source": [
    "Create a set of thresholds"
   ]
  },
  {
   "cell_type": "code",
   "execution_count": 7,
   "metadata": {
    "colab": {
     "base_uri": "https://localhost:8080/"
    },
    "executionInfo": {
     "elapsed": 7,
     "status": "ok",
     "timestamp": 1638671775671,
     "user": {
      "displayName": "Anh Le Hoang",
      "photoUrl": "https://lh3.googleusercontent.com/a/default-user=s64",
      "userId": "01819178927393653676"
     },
     "user_tz": 300
    },
    "id": "4qSNFYbMX2-h",
    "outputId": "3d3ba16a-fcf6-4cfb-a2ff-41cd86641d78"
   },
   "outputs": [
    {
     "name": "stdout",
     "output_type": "stream",
     "text": [
      "[0.5  0.51 0.52 0.53 0.54 0.55 0.56 0.57 0.58 0.59 0.6  0.61 0.62 0.63\n",
      " 0.64 0.65 0.66 0.67 0.68 0.69 0.7  0.71 0.72 0.73 0.74 0.75 0.76 0.77\n",
      " 0.78 0.79 0.8  0.81 0.82 0.83 0.84 0.85 0.86 0.87 0.88 0.89 0.9  0.91\n",
      " 0.92 0.93 0.94 0.95 0.96 0.97 0.98 0.99 1.   1.01 1.02 1.03 1.04 1.05\n",
      " 1.06 1.07 1.08 1.09 1.1  1.11 1.12 1.13 1.14 1.15 1.16 1.17 1.18 1.19\n",
      " 1.2  1.21 1.22 1.23 1.24 1.25 1.26 1.27 1.28 1.29 1.3  1.31 1.32 1.33\n",
      " 1.34 1.35 1.36 1.37 1.38 1.39 1.4  1.41 1.42 1.43 1.44 1.45 1.46 1.47\n",
      " 1.48 1.49 1.5 ]\n"
     ]
    }
   ],
   "source": [
    "thresholds = np.linspace(0.5, 1.5, 101, endpoint=True)\n",
    "num_thresholds = len(thresholds)\n",
    "print(thresholds)"
   ]
  },
  {
   "cell_type": "markdown",
   "metadata": {
    "id": "zMgMLTX2fisY"
   },
   "source": [
    "\n",
    "Calculate the norm, compare to the thresholds"
   ]
  },
  {
   "cell_type": "code",
   "execution_count": 8,
   "metadata": {
    "executionInfo": {
     "elapsed": 5,
     "status": "ok",
     "timestamp": 1638671775671,
     "user": {
      "displayName": "Anh Le Hoang",
      "photoUrl": "https://lh3.googleusercontent.com/a/default-user=s64",
      "userId": "01819178927393653676"
     },
     "user_tz": 300
    },
    "id": "SJ4J-ChyVY5m"
   },
   "outputs": [],
   "source": [
    "if counting_method == True:\n",
    "  feature_vector_cutoff = 50\n",
    "else:\n",
    "  feature_vector_cutoff = 200\n",
    "\n",
    "def check_firing(fp_npy_paths, visual_concepts, thresholds, type):\n",
    "  num_visual_concepts = visual_concepts.shape[0]\n",
    "  num_thresholds = len(thresholds)\n",
    "    \n",
    "  firing_result_list = []\n",
    "  firing_result_array = np.zeros(shape=(num_thresholds, num_visual_concepts), dtype=np.int32) # num_T * 200 elements\n",
    "\n",
    "  if counting_method == True: # Count all the fires\n",
    "    for i in tqdm(range(len(fp_npy_paths))):\n",
    "      feature_vectors = np.load(fp_npy_paths[i])\n",
    "      np.random.shuffle(feature_vectors)\n",
    "      for feature_vector in feature_vectors[:feature_vector_cutoff]:\n",
    "        for j in range(num_visual_concepts):\n",
    "          norm = LA.norm(feature_vector - visual_concepts[j]).item()\n",
    "          for k in range(num_thresholds):\n",
    "            if norm < thresholds[k]:\n",
    "              firing_result_array[k, j] += 1\n",
    "  else: # Assign 1 for any fire\n",
    "    for i in tqdm(range(len(fp_npy_paths))):\n",
    "      feature_vectors = np.load(fp_npy_paths[i])\n",
    "      np.random.shuffle(feature_vectors)\n",
    "      for feature_vector in feature_vectors[:feature_vector_cutoff]:\n",
    "        for j in range(num_visual_concepts):\n",
    "          if firing_result_array[:, j].any() == 0:\n",
    "            norm = LA.norm(feature_vector - visual_concepts[j]).item()\n",
    "            for k in range(num_thresholds):\n",
    "              if norm < thresholds[k]:\n",
    "                firing_result_array[k, j] = 1\n",
    "                \n",
    "  for i in range(num_thresholds):\n",
    "    firing_result_dict = {'T': thresholds[i], type: firing_result_array[i]}\n",
    "    firing_result_list.append(firing_result_dict)\n",
    "    \n",
    "  plt.imshow(firing_result_array, interpolation='none')\n",
    "  plt.xlabel('Visual concept')\n",
    "  plt.ylabel('T')\n",
    "  plt.show()\n",
    "    \n",
    "  return firing_result_list\n",
    "\n",
    "if calculate_mode == True:\n",
    "  print('Positive')\n",
    "  positive_firing_result_list = check_firing(fp_positive_npy_paths, visual_concepts, thresholds, type='positive')\n",
    "  print('Negative')\n",
    "  negative_firing_result_list = check_firing(fp_negative_npy_paths, visual_concepts, thresholds, type='negative')"
   ]
  },
  {
   "cell_type": "markdown",
   "metadata": {
    "id": "ZzB2TVKBfpGc"
   },
   "source": [
    "Save and load the results"
   ]
  },
  {
   "cell_type": "code",
   "execution_count": 9,
   "metadata": {
    "executionInfo": {
     "elapsed": 579,
     "status": "ok",
     "timestamp": 1638671776246,
     "user": {
      "displayName": "Anh Le Hoang",
      "photoUrl": "https://lh3.googleusercontent.com/a/default-user=s64",
      "userId": "01819178927393653676"
     },
     "user_tz": 300
    },
    "id": "d0ciP_XlVY5n"
   },
   "outputs": [],
   "source": [
    "if counting_method == True:\n",
    "    if google_colab == True:\n",
    "        positive_firing_result_path = '/content/drive/MyDrive/IDL_group_project/Google_Colab/data/positive_counting.pkl'\n",
    "        negative_firing_result_path = '/content/drive/MyDrive/IDL_group_project/Google_Colab/data/negative_counting.pkl'\n",
    "    else:\n",
    "        positive_firing_result_path = '/home/tunx404/Cloud/Google Drive - CMU - Shared with me/IDL_group_project/Google_Colab/data/positive_counting.pkl'\n",
    "        negative_firing_result_path = '/home/tunx404/Cloud/Google Drive - CMU - Shared with me/IDL_group_project/Google_Colab/data/negative_counting.pkl'\n",
    "else:\n",
    "    if google_colab == True:\n",
    "        positive_firing_result_path = '/content/drive/MyDrive/IDL_group_project/Google_Colab/data/positive_binary.pkl'\n",
    "        negative_firing_result_path = '/content/drive/MyDrive/IDL_group_project/Google_Colab/data/negative_binary.pkl'\n",
    "    else:\n",
    "        positive_firing_result_path = '/home/tunx404/Cloud/Google Drive - CMU - Shared with me/IDL_group_project/Google_Colab/data/positive_binary.pkl'\n",
    "        negative_firing_result_path = '/home/tunx404/Cloud/Google Drive - CMU - Shared with me/IDL_group_project/Google_Colab/data/negative_binary.pkl'\n",
    "\n",
    "if save_result == True:\n",
    "    pkl_file = open(positive_firing_result_path, 'wb')\n",
    "    pickle.dump(positive_firing_result_list, pkl_file)\n",
    "    pkl_file.close()\n",
    "\n",
    "    pkl_file = open(negative_firing_result_path, 'wb')\n",
    "    pickle.dump(negative_firing_result_list, pkl_file)\n",
    "    pkl_file.close()\n",
    "\n",
    "if calculate_mode == False:\n",
    "    with open(positive_firing_result_path, 'rb') as f:\n",
    "        positive_firing_result_list = pickle.load(f)\n",
    "    with open(negative_firing_result_path, 'rb') as f:\n",
    "        negative_firing_result_list = pickle.load(f)\n",
    "    dataset_cutoff = len(fp_positive_npy_paths) # If reading saved result, set the dataset_cutoff to the same value when saving"
   ]
  },
  {
   "cell_type": "code",
   "execution_count": 10,
   "metadata": {
    "colab": {
     "base_uri": "https://localhost:8080/",
     "height": 486
    },
    "executionInfo": {
     "elapsed": 540,
     "status": "ok",
     "timestamp": 1638671776780,
     "user": {
      "displayName": "Anh Le Hoang",
      "photoUrl": "https://lh3.googleusercontent.com/a/default-user=s64",
      "userId": "01819178927393653676"
     },
     "user_tz": 300
    },
    "id": "ns7jLpOoVY5o",
    "outputId": "42648c9d-7d0f-4774-ee3c-716fa7c1ac6d"
   },
   "outputs": [
    {
     "name": "stdout",
     "output_type": "stream",
     "text": [
      "Positive\n"
     ]
    },
    {
     "data": {
      "image/png": "[encoded data removed]",
      "text/plain": [
       "<Figure size 432x288 with 1 Axes>"
      ]
     },
     "metadata": {
      "needs_background": "light"
     },
     "output_type": "display_data"
    },
    {
     "name": "stdout",
     "output_type": "stream",
     "text": [
      "Negative\n"
     ]
    },
    {
     "data": {
      "image/png": "[encoded data removed]",
      "text/plain": [
       "<Figure size 432x288 with 1 Axes>"
      ]
     },
     "metadata": {
      "needs_background": "light"
     },
     "output_type": "display_data"
    }
   ],
   "source": [
    "def get_result_array(firing_result_list, type):\n",
    "    firing_result_array = []\n",
    "    for firing_result in firing_result_list:\n",
    "        firing_result_array.append(np.expand_dims(firing_result[type], axis=0))\n",
    "    firing_result_array = np.concatenate(firing_result_array, axis=0)\n",
    "\n",
    "    plt.imshow(firing_result_array, interpolation='none')\n",
    "    plt.xlabel('Visual concept')\n",
    "    plt.ylabel('T index')\n",
    "    plt.show()\n",
    "    \n",
    "    return firing_result_array\n",
    "    \n",
    "print('Positive')\n",
    "positive_firing_result_array = get_result_array(positive_firing_result_list, 'positive')\n",
    "print('Negative')\n",
    "negative_firing_result_array = get_result_array(negative_firing_result_list, 'negative')"
   ]
  },
  {
   "cell_type": "code",
   "execution_count": 11,
   "metadata": {
    "colab": {
     "base_uri": "https://localhost:8080/"
    },
    "executionInfo": {
     "elapsed": 29,
     "status": "ok",
     "timestamp": 1638671776781,
     "user": {
      "displayName": "Anh Le Hoang",
      "photoUrl": "https://lh3.googleusercontent.com/a/default-user=s64",
      "userId": "01819178927393653676"
     },
     "user_tz": 300
    },
    "id": "OdOZYBk_VY5o",
    "outputId": "e3121cd6-d4c6-4e92-dfb0-7363d439d362"
   },
   "outputs": [
    {
     "name": "stdout",
     "output_type": "stream",
     "text": [
      "[2, 4, 7, 12, 15, 21, 23, 27, 36, 40, 45, 55, 66, 71, 83, 88]\n",
      "[0, 2, 3, 4, 5, 7, 11, 12, 13, 15, 16, 22, 23, 25, 35, 36, 37, 40, 42, 50, 55, 61, 66, 72, 87, 88, 95, 98, 99, 109, 121, 126]\n"
     ]
    }
   ],
   "source": [
    "# num_visual_concepts_new = num_visual_concepts\n",
    "# first_fire_index = [i for i in range(num_visual_concepts)]\n",
    "\n",
    "def find_first_fire_indices(firing_result_array):\n",
    "    NUM_SELECTED_VISUAL_CONCEPTS = 31\n",
    "    SELECT_THRESHOLD = 100 if counting_method == True else 0\n",
    "    num_visual_concepts = firing_result_array.shape[1]\n",
    "    first_fire_indices = []\n",
    "    for firing_result in firing_result_array:\n",
    "        for i in range(num_visual_concepts):\n",
    "            if i not in first_fire_indices:\n",
    "                if firing_result[i] > SELECT_THRESHOLD:\n",
    "                    first_fire_indices.append(i)\n",
    "                    if len(first_fire_indices) > NUM_SELECTED_VISUAL_CONCEPTS:\n",
    "                        return first_fire_indices\n",
    "        if len(first_fire_indices) > NUM_SELECTED_VISUAL_CONCEPTS:\n",
    "            return first_fire_indices\n",
    "        \n",
    "positive_first_fire_indices = find_first_fire_indices(positive_firing_result_array)\n",
    "positive_first_fire_indices.sort()\n",
    "        \n",
    "negative_first_fire_indices = find_first_fire_indices(negative_firing_result_array)\n",
    "negative_first_fire_indices.sort()\n",
    "\n",
    "for index in positive_first_fire_indices:\n",
    "    if index in negative_first_fire_indices:\n",
    "        positive_first_fire_indices.remove(index)\n",
    "\n",
    "print(positive_first_fire_indices)\n",
    "print(negative_first_fire_indices)\n",
    "\n",
    "# final_indicies = [6, 17, 43, 47, 52, 56, 63, 75, 78, 82, 89, 91, 96, 104, 107, 111, 122, 140, 150, 164, 172, 187, 194]\n",
    "# positive_first_fire_indices = final_indicies"
   ]
  },
  {
   "cell_type": "code",
   "execution_count": 12,
   "metadata": {},
   "outputs": [
    {
     "name": "stdout",
     "output_type": "stream",
     "text": [
      "[13, 45, 98, 126, 134, 193]\n",
      "[11, 42, 45, 99, 126, 127, 134, 163, 165, 193]\n"
     ]
    },
    {
     "data": {
      "image/png": "[encoded data removed]",
      "text/plain": [
       "<Figure size 432x288 with 1 Axes>"
      ]
     },
     "metadata": {
      "needs_background": "light"
     },
     "output_type": "display_data"
    },
    {
     "data": {
      "image/png": "[encoded data removed]",
      "text/plain": [
       "<Figure size 432x288 with 1 Axes>"
      ]
     },
     "metadata": {
      "needs_background": "light"
     },
     "output_type": "display_data"
    }
   ],
   "source": [
    "def find_most_fire_indices(firing_result_array):\n",
    "    NUM_SELECTED_VISUAL_CONCEPTS = 10\n",
    "    num_visual_concepts = firing_result_array.shape[1]\n",
    "    count = np.sum(firing_result_array, axis=0)\n",
    "    fig = plt.figure()\n",
    "    ax = fig.add_axes([0,0,1,1])\n",
    "    indices = [i for i in range(num_visual_concepts)]\n",
    "    ax.bar(indices, count)\n",
    "    most_fire_indices = np.argsort(count, axis=0)[:NUM_SELECTED_VISUAL_CONCEPTS]\n",
    "    return list(most_fire_indices)\n",
    "    \n",
    "    # most_fire_indices = []\n",
    "    # for firing_result in firing_result_array:\n",
    "    #     for i in range(num_visual_concepts):\n",
    "    #         if i not in first_fire_indices:\n",
    "    #             if firing_result[i] > SELECT_THRESHOLD:\n",
    "    #                 first_fire_indices.append(i)\n",
    "    #                 if len(first_fire_indices) > NUM_SELECTED_VISUAL_CONCEPTS:\n",
    "    #                     return first_fire_indices\n",
    "    #     if len(first_fire_indices) > NUM_SELECTED_VISUAL_CONCEPTS:\n",
    "    #         return first_fire_indices\n",
    "        \n",
    "positive_most_fire_indices = find_most_fire_indices(positive_firing_result_array)\n",
    "positive_most_fire_indices.sort()\n",
    "        \n",
    "negative_most_fire_indices = find_most_fire_indices(negative_firing_result_array)\n",
    "negative_most_fire_indices.sort()\n",
    "\n",
    "for index in positive_most_fire_indices:\n",
    "    if index in negative_most_fire_indices:\n",
    "        positive_most_fire_indices.remove(index)\n",
    "\n",
    "print(positive_most_fire_indices)\n",
    "print(negative_most_fire_indices)"
   ]
  },
  {
   "cell_type": "markdown",
   "metadata": {
    "id": "3o3b6SIEgYPn"
   },
   "source": [
    "Calculate TP FP FN TN, draw the curves"
   ]
  },
  {
   "cell_type": "code",
   "execution_count": 13,
   "metadata": {
    "colab": {
     "base_uri": "https://localhost:8080/",
     "height": 1000
    },
    "executionInfo": {
     "elapsed": 510,
     "status": "ok",
     "timestamp": 1638671777286,
     "user": {
      "displayName": "Anh Le Hoang",
      "photoUrl": "https://lh3.googleusercontent.com/a/default-user=s64",
      "userId": "01819178927393653676"
     },
     "user_tz": 300
    },
    "id": "GXWZx-CEVY5p",
    "outputId": "e0148ee9-60a4-47e0-d927-a60bedf0c5c3"
   },
   "outputs": [
    {
     "data": {
      "image/png": "[encoded data removed]",
      "text/plain": [
       "<Figure size 432x288 with 1 Axes>"
      ]
     },
     "metadata": {
      "needs_background": "light"
     },
     "output_type": "display_data"
    },
    {
     "data": {
      "image/png": "[encoded data removed]",
      "text/plain": [
       "<Figure size 432x288 with 1 Axes>"
      ]
     },
     "metadata": {
      "needs_background": "light"
     },
     "output_type": "display_data"
    },
    {
     "name": "stdout",
     "output_type": "stream",
     "text": [
      "Index \tThreshold \tPrecision \tRecall \t\tTPR \t\tFPR \t\tTP \tFP \tFN \tFN\n",
      "0\t0.500000\t0.567895\t0.051401\t0.051401\t0.039111\t137797\t104848\t2543003\t2575952\n",
      "1\t0.510000\t0.568704\t0.051974\t0.051974\t0.039417\t139333\t105668\t2541467\t2575132\n",
      "2\t0.520000\t0.578517\t0.055343\t0.055343\t0.040320\t148363\t108091\t2532437\t2572709\n",
      "3\t0.530000\t0.579179\t0.055971\t0.055971\t0.040668\t150048\t109022\t2530752\t2571778\n",
      "4\t0.540000\t0.579767\t0.056561\t0.056561\t0.040997\t151630\t109906\t2529170\t2570894\n",
      "5\t0.550000\t0.580092\t0.057115\t0.057115\t0.041344\t153114\t110834\t2527686\t2569966\n",
      "6\t0.560000\t0.580202\t0.057664\t0.057664\t0.041722\t154585\t111848\t2526215\t2568952\n",
      "7\t0.570000\t0.580532\t0.058299\t0.058299\t0.042125\t156289\t112928\t2524511\t2567872\n",
      "8\t0.580000\t0.581188\t0.059013\t0.059013\t0.042525\t158201\t114002\t2522599\t2566798\n",
      "9\t0.590000\t0.581412\t0.059642\t0.059642\t0.042939\t159887\t115111\t2520913\t2565689\n",
      "10\t0.600000\t0.581591\t0.060276\t0.060276\t0.043364\t161587\t116249\t2519213\t2564551\n",
      "11\t0.610000\t0.581781\t0.060937\t0.060937\t0.043805\t163360\t117433\t2517440\t2563367\n",
      "12\t0.620000\t0.582020\t0.061622\t0.061622\t0.044254\t165197\t118637\t2515603\t2562163\n",
      "13\t0.630000\t0.581864\t0.062288\t0.062288\t0.044761\t166981\t119995\t2513819\t2560805\n",
      "14\t0.640000\t0.581995\t0.063023\t0.063023\t0.045265\t168952\t121346\t2511848\t2559454\n",
      "15\t0.650000\t0.582120\t0.063806\t0.063806\t0.045803\t171050\t122790\t2509750\t2558010\n",
      "16\t0.660000\t0.581925\t0.064544\t0.064544\t0.046370\t173029\t124310\t2507771\t2556490\n",
      "17\t0.670000\t0.581566\t0.065257\t0.065257\t0.046952\t174942\t125870\t2505858\t2554930\n",
      "18\t0.680000\t0.581425\t0.066002\t0.066002\t0.047516\t176938\t127380\t2503862\t2553420\n",
      "19\t0.690000\t0.582858\t0.067469\t0.067469\t0.048287\t180872\t129447\t2499928\t2551353\n",
      "20\t0.700000\t0.582987\t0.068471\t0.068471\t0.048978\t183558\t131300\t2497242\t2549500\n",
      "21\t0.710000\t0.582614\t0.069286\t0.069286\t0.049637\t185742\t133066\t2495058\t2547734\n",
      "22\t0.720000\t0.582002\t0.070088\t0.070088\t0.050338\t187893\t134946\t2492907\t2545854\n",
      "23\t0.730000\t0.581551\t0.070940\t0.070940\t0.051044\t190177\t136840\t2490623\t2543960\n",
      "24\t0.740000\t0.582626\t0.072472\t0.072472\t0.051917\t194283\t139178\t2486517\t2541622\n",
      "25\t0.750000\t0.582237\t0.073489\t0.073489\t0.052729\t197008\t141356\t2483792\t2539444\n",
      "26\t0.760000\t0.581977\t0.074585\t0.074585\t0.053573\t199948\t143619\t2480852\t2537181\n",
      "27\t0.770000\t0.582937\t0.076523\t0.076523\t0.054749\t205143\t146770\t2475657\t2534030\n",
      "28\t0.780000\t0.584425\t0.078623\t0.078623\t0.055908\t210773\t149877\t2470027\t2530923\n",
      "29\t0.790000\t0.584938\t0.080273\t0.080273\t0.056960\t215195\t152699\t2465605\t2528101\n",
      "30\t0.800000\t0.584729\t0.081829\t0.081829\t0.058114\t219367\t155793\t2461433\t2525007\n",
      "31\t0.810000\t0.587767\t0.085140\t0.085140\t0.059714\t228244\t160080\t2452556\t2520720\n",
      "32\t0.820000\t0.588536\t0.088369\t0.088369\t0.061782\t236900\t165624\t2443900\t2515176\n",
      "33\t0.830000\t0.590860\t0.093273\t0.093273\t0.064587\t250046\t173144\t2430754\t2507656\n",
      "34\t0.840000\t0.576522\t0.110209\t0.110209\t0.080952\t295447\t217017\t2385353\t2463783\n",
      "35\t0.850000\t0.575459\t0.111735\t0.111735\t0.082432\t299540\t220984\t2381260\t2459816\n",
      "36\t0.860000\t0.577588\t0.115076\t0.115076\t0.084160\t308496\t225615\t2372304\t2455185\n",
      "37\t0.870000\t0.577616\t0.117672\t0.117672\t0.086048\t315454\t230677\t2365346\t2450123\n",
      "38\t0.880000\t0.576781\t0.119581\t0.119581\t0.087744\t320573\t235224\t2360227\t2445576\n",
      "39\t0.890000\t0.579769\t0.124999\t0.124999\t0.090602\t335098\t242887\t2345702\t2437913\n",
      "40\t0.900000\t0.569461\t0.141908\t0.141908\t0.107289\t380427\t287621\t2300373\t2393179\n",
      "41\t0.910000\t0.568149\t0.143514\t0.143514\t0.109085\t384732\t292436\t2296068\t2388364\n",
      "42\t0.920000\t0.566792\t0.144997\t0.144997\t0.110823\t388707\t297095\t2292093\t2383705\n",
      "43\t0.930000\t0.565395\t0.146492\t0.146492\t0.112604\t392715\t301870\t2288085\t2378930\n",
      "44\t0.940000\t0.564054\t0.148031\t0.148031\t0.114410\t396841\t306710\t2283959\t2374090\n",
      "45\t0.950000\t0.562722\t0.149708\t0.149708\t0.116334\t401336\t311869\t2279464\t2368931\n",
      "46\t0.960000\t0.562407\t0.152489\t0.152489\t0.118647\t408793\t318070\t2272007\t2362730\n",
      "47\t0.970000\t0.562094\t0.155558\t0.155558\t0.121189\t417019\t324883\t2263781\t2355917\n",
      "48\t0.980000\t0.561182\t0.158144\t0.158144\t0.123661\t423953\t331511\t2256847\t2349289\n",
      "49\t0.990000\t0.559491\t0.160004\t0.160004\t0.125978\t428940\t337721\t2251860\t2343079\n",
      "50\t1.000000\t0.557851\t0.162087\t0.162087\t0.128469\t434524\t344401\t2246276\t2336399\n",
      "51\t1.010000\t0.557054\t0.165287\t0.165287\t0.131429\t443102\t352336\t2237698\t2328464\n",
      "52\t1.020000\t0.557710\t0.169579\t0.169579\t0.134484\t454608\t360525\t2226192\t2320275\n",
      "53\t1.030000\t0.556770\t0.173115\t0.173115\t0.137812\t464086\t369446\t2216714\t2311354\n",
      "54\t1.040000\t0.561044\t0.182609\t0.182609\t0.142872\t489538\t383010\t2191262\t2297790\n",
      "55\t1.050000\t0.559892\t0.208848\t0.208848\t0.164166\t559879\t440097\t2120921\t2240703\n",
      "56\t1.060000\t0.557393\t0.231583\t0.231583\t0.183893\t620829\t492980\t2059971\t2187820\n",
      "57\t1.070000\t0.557127\t0.236918\t0.236918\t0.188331\t635130\t504879\t2045670\t2175921\n",
      "58\t1.080000\t0.557296\t0.244584\t0.244584\t0.194293\t655682\t520860\t2025118\t2159940\n",
      "59\t1.090000\t0.554806\t0.267438\t0.267438\t0.214600\t716948\t575301\t1963852\t2105499\n",
      "60\t1.100000\t0.553047\t0.272150\t0.272150\t0.219942\t729581\t589621\t1951219\t2091179\n",
      "61\t1.110000\t0.553311\t0.280187\t0.280187\t0.226196\t751124\t606385\t1929676\t2074415\n",
      "62\t1.120000\t0.549983\t0.304012\t0.304012\t0.248754\t814996\t666861\t1865804\t2013939\n",
      "63\t1.130000\t0.548098\t0.310592\t0.310592\t0.256081\t832636\t686501\t1848164\t1994299\n",
      "64\t1.140000\t0.547733\t0.320328\t0.320328\t0.264497\t858735\t709063\t1822065\t1971737\n",
      "65\t1.150000\t0.548245\t0.332184\t0.332184\t0.273720\t890520\t733789\t1790280\t1947011\n",
      "66\t1.160000\t0.545972\t0.340516\t0.340516\t0.283171\t912854\t759126\t1767946\t1921674\n",
      "67\t1.170000\t0.546026\t0.354738\t0.354738\t0.294934\t950981\t790660\t1729819\t1890140\n",
      "68\t1.180000\t0.544934\t0.367936\t0.367936\t0.307258\t986363\t823698\t1694437\t1857102\n",
      "69\t1.190000\t0.541272\t0.378667\t0.378667\t0.320921\t1015131\t860324\t1665669\t1820476\n",
      "70\t1.200000\t0.539424\t0.412731\t0.412731\t0.352402\t1106448\t944718\t1574352\t1736082\n",
      "71\t1.210000\t0.534948\t0.462550\t0.462550\t0.402113\t1240003\t1077985\t1440797\t1602815\n",
      "72\t1.220000\t0.531238\t0.477926\t0.477926\t0.421720\t1281225\t1130547\t1399575\t1550253\n",
      "73\t1.230000\t0.527483\t0.512953\t0.512953\t0.459501\t1375125\t1231831\t1305675\t1448969\n",
      "74\t1.240000\t0.524284\t0.534095\t0.534095\t0.484617\t1431801\t1299161\t1248999\t1381639\n",
      "75\t1.250000\t0.521662\t0.593732\t0.593732\t0.544423\t1591677\t1459488\t1089123\t1221312\n",
      "76\t1.260000\t0.517164\t0.615524\t0.615524\t0.574668\t1650097\t1540570\t1030703\t1140230\n",
      "77\t1.270000\t0.512473\t0.638679\t0.638679\t0.607590\t1712171\t1628827\t968629\t1051973\n",
      "78\t1.280000\t0.509468\t0.684347\t0.684347\t0.658912\t1834598\t1766412\t846202\t914388\n",
      "79\t1.290000\t0.506159\t0.710221\t0.710221\t0.692938\t1903961\t1857628\t776839\t823172\n",
      "80\t1.300000\t0.504967\t0.743469\t0.743469\t0.728844\t1993093\t1953886\t687707\t726914\n",
      "81\t1.310000\t0.504486\t0.795719\t0.795719\t0.781568\t2133163\t2095228\t547637\t585572\n",
      "82\t1.320000\t0.501927\t0.817685\t0.817685\t0.811405\t2192049\t2175214\t488751\t505586\n",
      "83\t1.330000\t0.499919\t0.843274\t0.843274\t0.843546\t2260648\t2261379\t420152\t419421\n",
      "84\t1.340000\t0.498016\t0.866802\t0.866802\t0.873708\t2323724\t2342236\t357076\t338564\n",
      "85\t1.350000\t0.496706\t0.889534\t0.889534\t0.901331\t2384664\t2416288\t296136\t264512\n",
      "86\t1.360000\t0.496419\t0.918149\t0.918149\t0.931395\t2461375\t2496884\t219425\t183916\n",
      "87\t1.370000\t0.497583\t0.950225\t0.950225\t0.959456\t2547364\t2572109\t133436\t108691\n",
      "88\t1.380000\t0.498494\t0.971122\t0.971122\t0.976990\t2603384\t2619115\t77416\t61685\n",
      "89\t1.390000\t0.499300\t0.983706\t0.983706\t0.986466\t2637120\t2644518\t43680\t36282\n",
      "90\t1.400000\t0.499121\t0.987096\t0.987096\t0.990571\t2646206\t2655523\t34594\t25277\n",
      "91\t1.410000\t0.499296\t0.993329\t0.993329\t0.996130\t2662916\t2670425\t17884\t10375\n",
      "92\t1.420000\t0.500000\t1.000000\t1.000000\t1.000000\t2680800\t2680800\t0\t0\n",
      "93\t1.430000\t0.500000\t1.000000\t1.000000\t1.000000\t2680800\t2680800\t0\t0\n",
      "94\t1.440000\t0.500000\t1.000000\t1.000000\t1.000000\t2680800\t2680800\t0\t0\n",
      "95\t1.450000\t0.500000\t1.000000\t1.000000\t1.000000\t2680800\t2680800\t0\t0\n",
      "96\t1.460000\t0.500000\t1.000000\t1.000000\t1.000000\t2680800\t2680800\t0\t0\n",
      "97\t1.470000\t0.500000\t1.000000\t1.000000\t1.000000\t2680800\t2680800\t0\t0\n",
      "98\t1.480000\t0.500000\t1.000000\t1.000000\t1.000000\t2680800\t2680800\t0\t0\n",
      "99\t1.490000\t0.500000\t1.000000\t1.000000\t1.000000\t2680800\t2680800\t0\t0\n",
      "100\t1.500000\t0.500000\t1.000000\t1.000000\t1.000000\t2680800\t2680800\t0\t0\n"
     ]
    }
   ],
   "source": [
    "# num_visual_concepts_new = num_visual_concepts\n",
    "# positive_most_fire_indices = [i for i in range(num_visual_concepts)]\n",
    "\n",
    "precisions = []\n",
    "recalls = []\n",
    "TPRs = []\n",
    "FPRs = []\n",
    "TPs = []\n",
    "FPs = []\n",
    "FNs = []\n",
    "TNs = []\n",
    "\n",
    "num_visual_concepts_new = len(positive_first_fire_indices)\n",
    "for i in range(num_thresholds):\n",
    "  threshold = positive_firing_result_list[i]['T']\n",
    "\n",
    "  true_positive  = sum(positive_firing_result_list[i]['positive'][positive_first_fire_indices])\n",
    "  false_positive = sum(negative_firing_result_list[i]['negative'][positive_first_fire_indices])\n",
    "\n",
    "  if counting_method == True:\n",
    "    false_negative = dataset_cutoff*feature_vector_cutoff*num_visual_concepts_new - true_positive  # The number of fp+ not firing\n",
    "    true_negative  = dataset_cutoff*feature_vector_cutoff*num_visual_concepts_new - false_positive # The number of fp- not firing\n",
    "  else:\n",
    "    false_negative = num_visual_concepts_new - true_positive\n",
    "    true_negative  = num_visual_concepts_new - false_positive\n",
    "    \n",
    "  precision = 1.0*true_positive/(true_positive + false_positive + 1e-6)\n",
    "  if true_positive == 0:\n",
    "    precision = 1\n",
    "  recall = 1.0*true_positive/(true_positive + false_negative + 1e-6)\n",
    "  TPR = 1.0*true_positive/(true_positive + false_negative + 1e-6)\n",
    "  FPR = 1.0*false_positive/(false_positive + true_negative + 1e-6)\n",
    "\n",
    "  precisions.append(precision)\n",
    "  recalls.append(recall)\n",
    "  TPRs.append(TPR)\n",
    "  FPRs.append(FPR)\n",
    "  TPs.append(true_positive)\n",
    "  FPs.append(false_positive)\n",
    "  FNs.append(false_negative)\n",
    "  TNs.append(true_negative)\n",
    "\n",
    "plt.plot(recalls, precisions)\n",
    "plt.title('Precision-Recall')\n",
    "plt.xlabel('Recall')\n",
    "plt.ylabel('Precision')\n",
    "plt.show()\n",
    "\n",
    "plt.plot(FPRs, TPRs)\n",
    "plt.title('ROC')\n",
    "plt.xlabel('False Positive Rate')\n",
    "plt.ylabel('True Positive Rate')\n",
    "plt.show()\n",
    "\n",
    "print('Index \\tThreshold \\tPrecision \\tRecall \\t\\tTPR \\t\\tFPR \\t\\tTP \\tFP \\tFN \\tFN')\n",
    "for i in range(num_thresholds):\n",
    "  print(f'{i}\\t{thresholds[i]:0.6f}\\t{precisions[i]:0.6f}\\t{recalls[i]:0.6f}\\t{TPRs[i]:0.6f}\\t{FPRs[i]:0.6f}\\t{TPs[i]:d}\\t{FPs[i]:d}\\t{FNs[i]:d}\\t{TNs[i]:d}')"
   ]
  },
  {
   "cell_type": "code",
   "execution_count": 14,
   "metadata": {
    "colab": {
     "base_uri": "https://localhost:8080/",
     "height": 325
    },
    "executionInfo": {
     "elapsed": 545,
     "status": "ok",
     "timestamp": 1638671777822,
     "user": {
      "displayName": "Anh Le Hoang",
      "photoUrl": "https://lh3.googleusercontent.com/a/default-user=s64",
      "userId": "01819178927393653676"
     },
     "user_tz": 300
    },
    "id": "KNg5aQcXVY5q",
    "outputId": "d057af82-b7d3-43dc-ef35-3184695fbe2f"
   },
   "outputs": [
    {
     "data": {
      "text/plain": [
       "[Text(0.5, 0, 'Visual concept'), Text(0, 0.5, 'T index')]"
      ]
     },
     "execution_count": 14,
     "metadata": {},
     "output_type": "execute_result"
    },
    {
     "data": {
      "image/png": "[encoded data removed]",
      "text/plain": [
       "<Figure size 432x288 with 2 Axes>"
      ]
     },
     "metadata": {
      "needs_background": "light"
     },
     "output_type": "display_data"
    }
   ],
   "source": [
    "final_indicies = [6, 17, 43, 47, 52, 56, 63, 75, 78, 82, 89, 91, 96, 104, 107, 111, 122, 140, 150, 164, 172, 187, 194]\n",
    "fig, (ax1, ax2) = plt.subplots(1, 2)\n",
    "fig.suptitle('Indicies = ' + str(final_indicies))\n",
    "ax1.imshow(positive_firing_result_array[:, final_indicies], interpolation='none')\n",
    "ax2.imshow(negative_firing_result_array[:, final_indicies], interpolation='none')\n",
    "ax1.plot(0, 50, len(final_indicies), 50, color='r', marker='o')\n",
    "ax2.plot(0, 50, len(final_indicies), 50, color='r', marker='o')\n",
    "ax1.set(xlabel='Visual concept', ylabel='T index')\n",
    "ax2.set(xlabel='Visual concept', ylabel='T index')"
   ]
  },
  {
   "cell_type": "code",
   "execution_count": null,
   "metadata": {},
   "outputs": [],
   "source": []
  }
 ],
 "metadata": {
  "colab": {
   "collapsed_sections": [],
   "name": "precision_recall_curve.ipynb",
   "provenance": []
  },
  "kernelspec": {
   "display_name": "Python 3 (ipykernel)",
   "language": "python",
   "name": "python3"
  },
  "language_info": {
   "codemirror_mode": {
    "name": "ipython",
    "version": 3
   },
   "file_extension": ".py",
   "mimetype": "text/x-python",
   "name": "python",
   "nbconvert_exporter": "python",
   "pygments_lexer": "ipython3",
   "version": "3.9.7"
  }
 },
 "nbformat": 4,
 "nbformat_minor": 4
}
